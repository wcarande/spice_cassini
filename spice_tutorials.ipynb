{
 "cells": [
  {
   "cell_type": "markdown",
   "metadata": {},
   "source": [
    "# Cassini Example"
   ]
  },
  {
   "cell_type": "code",
   "execution_count": 1,
   "metadata": {
    "collapsed": true
   },
   "outputs": [],
   "source": [
    "import numpy as np\n",
    "\n",
    "from builtins import input\n",
    "\n",
    "import spiceypy as spice"
   ]
  },
  {
   "cell_type": "code",
   "execution_count": 2,
   "metadata": {
    "collapsed": true
   },
   "outputs": [],
   "source": [
    "# Load meta-kernel\n",
    "spice.furnsh('cassini.tm')"
   ]
  },
  {
   "cell_type": "markdown",
   "metadata": {},
   "source": [
    "## Time Conversion\n",
    "\n",
    "Write a program that prompts the user for an input UTC time string, converts it to the following time systems and\n",
    "output formats:\n",
    "1. Ephemeris Time (ET) in seconds past J2000\n",
    "2. Calendar Ephemeris Time\n",
    "3. Spacecraft Clock Time"
   ]
  },
  {
   "cell_type": "code",
   "execution_count": 3,
   "metadata": {},
   "outputs": [
    {
     "name": "stdout",
     "output_type": "stream",
     "text": [
      "Enter time (UTC): 2004 jun 11 19:32:00\n"
     ]
    }
   ],
   "source": [
    "SCLKID = -82\n",
    "# Prompt the user for an input UTC time string.\n",
    "# Enter 2004 jun 11 19:32:00\n",
    "utc_time = input('Enter time (UTC): ')"
   ]
  },
  {
   "cell_type": "code",
   "execution_count": 4,
   "metadata": {},
   "outputs": [
    {
     "name": "stdout",
     "output_type": "stream",
     "text": [
      "Ephemeris time:  140254384.1846252\n"
     ]
    }
   ],
   "source": [
    "# Convert the input time string into ephemeris time expressed as \n",
    "# seconds past J2000 TDB. Display the result.\n",
    "et_time = spice.str2et(utc_time)\n",
    "print('Ephemeris time: ', et_time)"
   ]
  },
  {
   "cell_type": "code",
   "execution_count": 5,
   "metadata": {},
   "outputs": [
    {
     "name": "stdout",
     "output_type": "stream",
     "text": [
      "Calendar format:  2004 JUN 11 19:33:04.184\n"
     ]
    }
   ],
   "source": [
    "# Convert ephemeris time into a calendar format. Display the\n",
    "# result.\n",
    "cal_time = spice.etcal(et_time)\n",
    "print('Calendar format: ', cal_time)"
   ]
  },
  {
   "cell_type": "code",
   "execution_count": 6,
   "metadata": {},
   "outputs": [
    {
     "name": "stdout",
     "output_type": "stream",
     "text": [
      "Spacecraft clock time:  197491442025.3071\n"
     ]
    }
   ],
   "source": [
    "# Convert ephemeris time into a spacecraft clock string. Display\n",
    "# the result.\n",
    "sclk_time = spice.sce2c(SCLKID, et_time)\n",
    "print('Spacecraft clock time: ', sclk_time)"
   ]
  },
  {
   "cell_type": "markdown",
   "metadata": {},
   "source": [
    "## Obtaining Target States and Positions (getsta)\n",
    "Prompt user for UTC time\n",
    "1. The apparent state of Phoebe as seen from CASSINI in the J2000\n",
    "frame, in kilometers and kilometers/second. This vector itself\n",
    "is not of any particular interest, but it is a useful\n",
    "intermediate quantity in some geometry calculations.\n",
    "2. The apparent position of the Earth as seen from CASSINI in the\n",
    "J2000 frame, in kilometers.\n",
    "3. The one-way light time between CASSINI and the apparent\n",
    "position of Earth, in seconds.\n",
    "4. The apparent position of the Sun as seen from Phoebe in the\n",
    "J2000 frame (J2000), in kilometers.\n",
    "5. The actual (geometric) distance between the Sun and Phoebe, in\n",
    "astronomical units."
   ]
  },
  {
   "cell_type": "code",
   "execution_count": 7,
   "metadata": {},
   "outputs": [
    {
     "name": "stdout",
     "output_type": "stream",
     "text": [
      "[-1.19920929e+02  2.19413934e+03 -5.76389799e+01 -5.98023114e+00\n",
      " -2.11880531e+00 -2.94822134e-01]\n"
     ]
    }
   ],
   "source": [
    "# The apparent state of Phoebe as seen from CASSINI in the J2000 frame, in kilometers \n",
    "# and kilometers/second. This vector itself is not of any particular interest, but it \n",
    "# is a useful intermediate quantity in some geometry calculations.\n",
    "[phoebe_state, phoebe_lt] = spice.spkezr('PHOEBE', et_time, 'J2000', 'LT+S', 'CASSINI')\n",
    "print(phoebe_state)"
   ]
  },
  {
   "cell_type": "code",
   "execution_count": 8,
   "metadata": {},
   "outputs": [
    {
     "name": "stdout",
     "output_type": "stream",
     "text": [
      "[ 3.53019393e+08 -1.32818035e+09 -5.68134172e+08]\n"
     ]
    }
   ],
   "source": [
    "# The apparent position of the Earth as seen from CASSINI in the J2000 frame, in kilometers.\n",
    "# Earth NAIF ID: 399, Cassini NAIF ID: -82\n",
    "[earth_pos, earth_lt] = spice.spkezp(399, et_time, 'J2000', 'LT+S', -82)\n",
    "print(earth_pos)"
   ]
  },
  {
   "cell_type": "code",
   "execution_count": 9,
   "metadata": {},
   "outputs": [
    {
     "name": "stdout",
     "output_type": "stream",
     "text": [
      "4960.426912028222\n"
     ]
    }
   ],
   "source": [
    "# The one-way light time between CASSINI and the apparent position of Earth, in seconds.\n",
    "print(earth_lt)"
   ]
  },
  {
   "cell_type": "code",
   "execution_count": 10,
   "metadata": {},
   "outputs": [
    {
     "name": "stdout",
     "output_type": "stream",
     "text": [
      "[ 3.76551465e+08 -1.19049563e+09 -5.08438699e+08]\n"
     ]
    }
   ],
   "source": [
    "# The apparent position of the Sun as seen from Phoebe in the J2000 frame (J2000), \n",
    "# in kilometers.\n",
    "# Sun NAIF ID: 10, Phoebe NAIF ID: 609\n",
    "[sun_pos, sun_lt] = spice.spkezp(10, et_time, 'J2000', 'LT+S', 609)\n",
    "print(sun_pos)"
   ]
  },
  {
   "cell_type": "code",
   "execution_count": 11,
   "metadata": {},
   "outputs": [
    {
     "name": "stdout",
     "output_type": "stream",
     "text": [
      "9.012005475539208\n"
     ]
    }
   ],
   "source": [
    "# The actual (geometric) distance between the Sun and Phoebe, in astronomical units.\n",
    "sun_dist = spice.vnorm(sun_pos)\n",
    "sun_dist_au = spice.convrt(sun_dist, 'KM', 'AU')\n",
    "print(sun_dist_au)"
   ]
  },
  {
   "cell_type": "markdown",
   "metadata": {},
   "source": [
    "## Spacecraft Orientation and Reference Frames\n",
    "\n",
    "Write a program that prompts the user for an input time string, computes and displays the following at the epoch of interest:\n",
    "1. The apparent state of Phoebe as seen from CASSINI in the IAU_PHOEBE body-fixed frame. This vector itself is not of any particular interest, but it is a useful intermediate quantity in some geometry calculations.\n",
    "2. The angular separation between the apparent position of Earth as seen from CASSINI and the nominal boresight of the CASSINI high gain antenna (HGA). The HGA boresight direction is provided by the kernel variable TKFRAME_-82101_BORESIGHT, which is defined in the Cassini frame kernel cited above in the section \"Kernels Used.\" In this kernel, the HGA boresight vector is expressed relative to the CASSINI_HGA reference frame.\n"
   ]
  },
  {
   "cell_type": "code",
   "execution_count": 12,
   "metadata": {},
   "outputs": [
    {
     "name": "stdout",
     "output_type": "stream",
     "text": [
      "[-1982.63976162  -934.53047112  -166.56259513     3.97083213\n",
      "    -3.81249566    -2.37166299]\n"
     ]
    }
   ],
   "source": [
    "# The apparent state of Phoebe as seen from CASSINI in the IAU_PHOEBE body-fixed frame. \n",
    "# This vector itself is not of any particular interest, but it is a useful intermediate \n",
    "# quantity in some geometry calculations.\n",
    "[phoebe_state_iau, phoebe_lt_iau] = spice.spkezr('PHOEBE', et_time, 'IAU_PHOEBE', 'LT+S', 'CASSINI')\n",
    "print(phoebe_state_iau)"
   ]
  },
  {
   "cell_type": "code",
   "execution_count": 13,
   "metadata": {},
   "outputs": [
    {
     "name": "stdout",
     "output_type": "stream",
     "text": [
      "[4.97510258e+08 1.32327091e+09 4.61410682e+08]\n"
     ]
    }
   ],
   "source": [
    "# Apparent position of Earth as seen from CASSINI in CASSINI_HGA frame\n",
    "[earth_pos, earth_ltime] = spice.spkpos('EARTH', et_time, 'CASSINI_HGA', 'LT+S', 'CASSINI')\n",
    "boresight_pos = [0.0, 0.0, 1.0]\n",
    "print(earth_pos)"
   ]
  },
  {
   "cell_type": "code",
   "execution_count": 14,
   "metadata": {},
   "outputs": [
    {
     "name": "stdout",
     "output_type": "stream",
     "text": [
      "1.2553132026561336\n"
     ]
    }
   ],
   "source": [
    "# Angular separation\n",
    "earth_bore_sep = spice.vsep(earth_pos, boresight_pos)\n",
    "print(earth_bore_sep)"
   ]
  },
  {
   "cell_type": "code",
   "execution_count": 15,
   "metadata": {},
   "outputs": [
    {
     "name": "stdout",
     "output_type": "stream",
     "text": [
      "71.92414847924705\n"
     ]
    }
   ],
   "source": [
    "# Convert from radians to degrees\n",
    "earth_bore_deg = spice.convrt(earth_bore_sep, 'RADIANS', 'DEGREES')\n",
    "print(earth_bore_deg)"
   ]
  },
  {
   "cell_type": "markdown",
   "metadata": {},
   "source": [
    "## Computing Sub-s/c and Sub-solar Points on an Ellipsoid and a DSK\n",
    "\n",
    "1. The apparent sub-observer point of CASSINI on Phoebe, in the body fixed frame IAU_PHOEBE, in kilometers.\n",
    "2. The apparent sub-solar point on Phoebe, as seen from CASSINI in the body fixed frame IAU_PHOEBE, in kilometers."
   ]
  },
  {
   "cell_type": "code",
   "execution_count": 16,
   "metadata": {},
   "outputs": [
    {
     "name": "stdout",
     "output_type": "stream",
     "text": [
      "[104.49789074  45.26884577   7.38331473]\n"
     ]
    }
   ],
   "source": [
    "# The apparent sub-observer point of CASSINI on Phoebe, in the body fixed frame IAU_PHOEBE, \n",
    "# in kilometers. Using near point/ellipsoid.\n",
    "# See: https://naif.jpl.nasa.gov/pub/naif/toolkit_docs/C/cspice/subpnt_c.html\n",
    "[subobs_point, subobs_epoch, subobs_vec] = spice.subpnt('near point/ellipsoid', 'PHOEBE', \n",
    "                                                        et_time,'IAU_PHOEBE', 'LT+S', \n",
    "                                                        'CASSINI')\n",
    "print(subobs_point)"
   ]
  },
  {
   "cell_type": "code",
   "execution_count": 17,
   "metadata": {},
   "outputs": [
    {
     "name": "stdout",
     "output_type": "stream",
     "text": [
      "[ 78.68071625  76.8786516  -21.88456729]\n"
     ]
    }
   ],
   "source": [
    "# The apparent sub-solar point on Phoebe, as seen from CASSINI in the body fixed frame \n",
    "# IAU_PHOEBE, in kilometers. Using near point/ellipsoid.\n",
    "# See: https://naif.jpl.nasa.gov/pub/naif/toolkit_docs/C/cspice/subslr_c.html\n",
    "[subsol_point, subsol_epoch, subsol_vec] = spice.subslr('near point/ellipsoid', 'PHOEBE', \n",
    "                                                        et_time,'IAU_PHOEBE', 'LT+S', \n",
    "                                                        'CASSINI')\n",
    "print(subsol_point)"
   ]
  },
  {
   "cell_type": "code",
   "execution_count": 18,
   "metadata": {},
   "outputs": [
    {
     "name": "stdout",
     "output_type": "stream",
     "text": [
      "[95.37257468 40.94817689  6.6099027 ]\n"
     ]
    }
   ],
   "source": [
    "# The apparent sub-observer point of CASSINI on Phoebe, in the body fixed frame IAU_PHOEBE, \n",
    "# in kilometers. Using NADIR/DSK/Unprioritized.\n",
    "[subobs_point_dsk, subobs_epoch_dsk, subobs_vec_dsk] = spice.subpnt('NADIR/DSK/Unprioritized', \n",
    "                                                'PHOEBE', et_time,'IAU_PHOEBE', 'LT+S', \n",
    "                                                'CASSINI')\n",
    "print(subobs_point_dsk)"
   ]
  },
  {
   "cell_type": "code",
   "execution_count": 19,
   "metadata": {},
   "outputs": [
    {
     "name": "stdout",
     "output_type": "stream",
     "text": [
      "[ 79.11113709  77.33831624 -22.02817575]\n"
     ]
    }
   ],
   "source": [
    "# The apparent sub-solar point on Phoebe, as seen from CASSINI in the body fixed frame \n",
    "# IAU_PHOEBE, in kilometers. Using NADIR/DSK/Unprioritized.\n",
    "[subsol_point_dsk, subsol_epoch_dsk, subsol_vec_dsk] = spice.subslr('NADIR/DSK/Unprioritized', \n",
    "                                                'PHOEBE', et_time,'IAU_PHOEBE', 'LT+S', \n",
    "                                                'CASSINI')\n",
    "print(subsol_point_dsk)"
   ]
  },
  {
   "cell_type": "code",
   "execution_count": null,
   "metadata": {
    "collapsed": true
   },
   "outputs": [],
   "source": []
  }
 ],
 "metadata": {
  "kernelspec": {
   "display_name": "Python 3",
   "language": "python",
   "name": "python3"
  },
  "language_info": {
   "codemirror_mode": {
    "name": "ipython",
    "version": 3
   },
   "file_extension": ".py",
   "mimetype": "text/x-python",
   "name": "python",
   "nbconvert_exporter": "python",
   "pygments_lexer": "ipython3",
   "version": "3.6.7"
  }
 },
 "nbformat": 4,
 "nbformat_minor": 2
}
