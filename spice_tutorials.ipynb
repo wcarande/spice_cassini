{
 "cells": [
  {
   "cell_type": "markdown",
   "metadata": {},
   "source": [
    "# Cassini Example"
   ]
  },
  {
   "cell_type": "code",
   "execution_count": 1,
   "metadata": {
    "collapsed": true
   },
   "outputs": [],
   "source": [
    "import numpy as np\n",
    "\n",
    "from builtins import input\n",
    "\n",
    "import spiceypy as spice"
   ]
  },
  {
   "cell_type": "code",
   "execution_count": 11,
   "metadata": {
    "collapsed": true
   },
   "outputs": [],
   "source": [
    "# Load meta-kernel\n",
    "spice.furnsh('cassini.tm')"
   ]
  },
  {
   "cell_type": "markdown",
   "metadata": {},
   "source": [
    "## Time Conversion\n",
    "\n",
    "Write a program that prompts the user for an input UTC time string, converts it to the following time systems and\n",
    "output formats:\n",
    "1. Ephemeris Time (ET) in seconds past J2000\n",
    "2. Calendar Ephemeris Time\n",
    "3. Spacecraft Clock Time"
   ]
  },
  {
   "cell_type": "code",
   "execution_count": 12,
   "metadata": {},
   "outputs": [
    {
     "name": "stdout",
     "output_type": "stream",
     "text": [
      "Enter time (UTC): 2004 jun 11 19:32:00\n"
     ]
    }
   ],
   "source": [
    "SCLKID = -82\n",
    "# Prompt the user for an input UTC time string.\n",
    "# Enter 2004 jun 11 19:32:00\n",
    "utc_time = input('Enter time (UTC): ')"
   ]
  },
  {
   "cell_type": "code",
   "execution_count": 13,
   "metadata": {},
   "outputs": [
    {
     "name": "stdout",
     "output_type": "stream",
     "text": [
      "Ephemeris time:  140254384.1846252\n"
     ]
    }
   ],
   "source": [
    "# Convert the input time string into ephemeris time expressed as \n",
    "# seconds past J2000 TDB. Display the result.\n",
    "et_time = spice.str2et(utc_time)\n",
    "print('Ephemeris time: ', et_time)"
   ]
  },
  {
   "cell_type": "code",
   "execution_count": 14,
   "metadata": {},
   "outputs": [
    {
     "name": "stdout",
     "output_type": "stream",
     "text": [
      "Calendar format:  2004 JUN 11 19:33:04.184\n"
     ]
    }
   ],
   "source": [
    "# Convert ephemeris time into a calendar format. Display the\n",
    "# result.\n",
    "cal_time = spice.etcal(et_time)\n",
    "print('Calendar format: ', cal_time)"
   ]
  },
  {
   "cell_type": "code",
   "execution_count": 15,
   "metadata": {},
   "outputs": [
    {
     "name": "stdout",
     "output_type": "stream",
     "text": [
      "Spacecraft clock time:  197491442025.3071\n"
     ]
    }
   ],
   "source": [
    "# Convert ephemeris time into a spacecraft clock string. Display\n",
    "# the result.\n",
    "sclk_time = spice.sce2c(SCLKID, et_time)\n",
    "print('Spacecraft clock time: ', sclk_time)"
   ]
  },
  {
   "cell_type": "markdown",
   "metadata": {},
   "source": [
    "## Obtaining Target States and Positions (getsta)\n",
    "Prompt user for UTC time\n",
    "1. The apparent state of Phoebe as seen from CASSINI in the J2000\n",
    "frame, in kilometers and kilometers/second. This vector itself\n",
    "is not of any particular interest, but it is a useful\n",
    "intermediate quantity in some geometry calculations.\n",
    "2. The apparent position of the Earth as seen from CASSINI in the\n",
    "J2000 frame, in kilometers.\n",
    "3. The one-way light time between CASSINI and the apparent\n",
    "position of Earth, in seconds.\n",
    "4. The apparent position of the Sun as seen from Phoebe in the\n",
    "J2000 frame (J2000), in kilometers.\n",
    "5. The actual (geometric) distance between the Sun and Phoebe, in\n",
    "astronomical units."
   ]
  },
  {
   "cell_type": "code",
   "execution_count": 18,
   "metadata": {},
   "outputs": [
    {
     "name": "stdout",
     "output_type": "stream",
     "text": [
      "Enter time (UTC): 2004 jun 11 19:32:00\n"
     ]
    }
   ],
   "source": [
    "# Prompt the user for an input UTC time string.\n",
    "# Enter 2004 jun 11 19:32:00\n",
    "utc_time = input('Enter time (UTC): ')"
   ]
  },
  {
   "cell_type": "code",
   "execution_count": 39,
   "metadata": {},
   "outputs": [
    {
     "name": "stdout",
     "output_type": "stream",
     "text": [
      "[-1.19920929e+02  2.19413934e+03 -5.76389799e+01 -5.98023114e+00\n",
      " -2.11880531e+00 -2.94822134e-01]\n"
     ]
    }
   ],
   "source": [
    "# The apparent state of Phoebe as seen from CASSINI in the J2000 frame, in kilometers \n",
    "# and kilometers/second. This vector itself is not of any particular interest, but it \n",
    "# is a useful intermediate quantity in some geometry calculations.\n",
    "et_time = spice.str2et(utc_time)\n",
    "[phoebe_state, phoebe_lt] = spice.spkezr('PHOEBE', et_time, 'J2000', 'LT+S', 'CASSINI')\n",
    "print(phoebe_state)"
   ]
  },
  {
   "cell_type": "code",
   "execution_count": 29,
   "metadata": {},
   "outputs": [
    {
     "name": "stdout",
     "output_type": "stream",
     "text": [
      "[ 3.53019393e+08 -1.32818035e+09 -5.68134172e+08]\n"
     ]
    }
   ],
   "source": [
    "# The apparent position of the Earth as seen from CASSINI in the J2000 frame, in kilometers.\n",
    "# Earth NAIF ID: 399, Cassini NAIF ID: -82\n",
    "[earth_pos, earth_lt] = spice.spkezp(399, et_time, 'J2000', 'LT+S', -82)\n",
    "print(earth_pos)"
   ]
  },
  {
   "cell_type": "code",
   "execution_count": 30,
   "metadata": {},
   "outputs": [
    {
     "name": "stdout",
     "output_type": "stream",
     "text": [
      "4960.426912028222\n"
     ]
    }
   ],
   "source": [
    "# The one-way light time between CASSINI and the apparent position of Earth, in seconds.\n",
    "print(earth_lt)"
   ]
  },
  {
   "cell_type": "code",
   "execution_count": 32,
   "metadata": {},
   "outputs": [
    {
     "name": "stdout",
     "output_type": "stream",
     "text": [
      "[ 3.76551465e+08 -1.19049563e+09 -5.08438699e+08]\n"
     ]
    }
   ],
   "source": [
    "# The apparent position of the Sun as seen from Phoebe in the J2000 frame (J2000), \n",
    "# in kilometers.\n",
    "# Sun NAIF ID: 10, Phoebe NAIF ID: 609\n",
    "[sun_pos, sun_lt] = spice.spkezp(10, et_time, 'J2000', 'LT+S', 609)\n",
    "print(sun_pos)"
   ]
  },
  {
   "cell_type": "code",
   "execution_count": 33,
   "metadata": {},
   "outputs": [
    {
     "name": "stdout",
     "output_type": "stream",
     "text": [
      "9.012005475539208\n"
     ]
    }
   ],
   "source": [
    "# The actual (geometric) distance between the Sun and Phoebe, in astronomical units.\n",
    "sun_dist = spice.vnorm(sun_pos)\n",
    "sun_dist_au = spice.convrt(sun_dist, 'KM', 'AU')\n",
    "print(sun_dist_au)"
   ]
  },
  {
   "cell_type": "markdown",
   "metadata": {},
   "source": [
    "## Spacecraft Orientation and Reference Frames\n",
    "\n",
    "Write a program that prompts the user for an input time string, computes and displays the following at the epoch of interest:\n",
    "1. The apparent state of Phoebe as seen from CASSINI in the IAU_PHOEBE body-fixed frame. This vector itself is not of any particular interest, but it is a useful intermediate quantity in some geometry calculations.\n",
    "2. The angular separation between the apparent position of Earth as seen from CASSINI and the nominal boresight of the CASSINI high gain antenna (HGA). The HGA boresight direction is provided by the kernel variable TKFRAME_-82101_BORESIGHT, which is defined in the Cassini frame kernel cited above in the section \"Kernels Used.\" In this kernel, the HGA boresight vector is expressed relative to the CASSINI_HGA reference frame.\n"
   ]
  },
  {
   "cell_type": "code",
   "execution_count": 38,
   "metadata": {},
   "outputs": [
    {
     "name": "stdout",
     "output_type": "stream",
     "text": [
      "[-1982.63976162  -934.53047112  -166.56259513     3.97083213\n",
      "    -3.81249566    -2.37166299]\n"
     ]
    }
   ],
   "source": [
    "# The apparent state of Phoebe as seen from CASSINI in the IAU_PHOEBE body-fixed frame. \n",
    "# This vector itself is not of any particular interest, but it is a useful intermediate \n",
    "# quantity in some geometry calculations.\n",
    "[phoebe_state_iau, phoebe_lt_iau] = spice.spkezr('PHOEBE', et_time, 'IAU_PHOEBE', 'LT+S', 'CASSINI')\n",
    "print(phoebe_state_iau)"
   ]
  },
  {
   "cell_type": "code",
   "execution_count": 36,
   "metadata": {},
   "outputs": [
    {
     "name": "stdout",
     "output_type": "stream",
     "text": [
      "[ 3.53019393e+08 -1.32818035e+09 -5.68134172e+08  3.41096501e+01\n",
      " -5.06878832e+00 -2.24316499e+00]\n"
     ]
    }
   ],
   "source": [
    "# Apparent position of Earth as seen from CASSINI\n",
    "[earth_state, earth_lt] = spice.spkezr('EARTH', et_time, 'J2000', 'LT+S', 'CASSINI')\n",
    "print(earth_state)"
   ]
  },
  {
   "cell_type": "code",
   "execution_count": null,
   "metadata": {
    "collapsed": true
   },
   "outputs": [],
   "source": []
  }
 ],
 "metadata": {
  "kernelspec": {
   "display_name": "Python 3",
   "language": "python",
   "name": "python3"
  },
  "language_info": {
   "codemirror_mode": {
    "name": "ipython",
    "version": 3
   },
   "file_extension": ".py",
   "mimetype": "text/x-python",
   "name": "python",
   "nbconvert_exporter": "python",
   "pygments_lexer": "ipython3",
   "version": "3.6.7"
  }
 },
 "nbformat": 4,
 "nbformat_minor": 2
}
