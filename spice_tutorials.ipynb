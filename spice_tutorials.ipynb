{
 "cells": [
  {
   "cell_type": "markdown",
   "metadata": {},
   "source": [
    "# Cassini Example\n",
    "\n",
    "See the spiceypy reference doc lists all the relevant functions and their usage:\n",
    "https://spiceypy.readthedocs.io/en/master/documentation.html\n",
    "\n",
    "Once you find the function, click on the SPICE documentation linked and look at the examples.\n",
    "\n",
    "All images come from the file: $TOOLKIT/doc/html/lessons/remote_sensing/remote_sensing_diagram.pdf"
   ]
  },
  {
   "cell_type": "code",
   "execution_count": 1,
   "metadata": {
    "collapsed": true
   },
   "outputs": [],
   "source": [
    "import numpy as np\n",
    "\n",
    "import spiceypy as spice"
   ]
  },
  {
   "cell_type": "code",
   "execution_count": 2,
   "metadata": {
    "collapsed": true
   },
   "outputs": [],
   "source": [
    "# Load meta-kernel\n",
    "spice.furnsh('cassini.tm')"
   ]
  },
  {
   "cell_type": "markdown",
   "metadata": {},
   "source": [
    "## Time Conversion\n",
    "\n",
    "Write a program that prompts the user for an input UTC time string, converts it to the following time systems and output formats:\n",
    "\n",
    "1. Ephemeris Time (ET) in seconds past J2000\n",
    "2. Calendar Ephemeris Time\n",
    "3. Spacecraft Clock Time\n",
    "\n",
    "Note: Because this is an interactive notebook, I do not prompt the user for a time string.\n",
    "\n",
    "Relevant links:\n",
    "\n",
    "http://naif.jpl.nasa.gov/pub/naif/toolkit_docs/C/cspice/str2et_c.html\n",
    "http://naif.jpl.nasa.gov/pub/naif/toolkit_docs/C/cspice/etcal_c.html http://naif.jpl.nasa.gov/pub/naif/toolkit_docs/C/cspice/sce2c_c.html"
   ]
  },
  {
   "cell_type": "code",
   "execution_count": 3,
   "metadata": {
    "collapsed": true
   },
   "outputs": [],
   "source": [
    "# This is the time used in all examples\n",
    "utc_time = '2004 jun 11 19:32:00'"
   ]
  },
  {
   "cell_type": "code",
   "execution_count": 4,
   "metadata": {},
   "outputs": [
    {
     "name": "stdout",
     "output_type": "stream",
     "text": [
      "Ephemeris time:  140254384.1846252\n"
     ]
    }
   ],
   "source": [
    "# Convert the input time string into ephemeris time expressed as seconds past J2000 TDB. \n",
    "# Display the result.\n",
    "et_time = spice.str2et(utc_time)\n",
    "print('Ephemeris time: ', et_time)"
   ]
  },
  {
   "cell_type": "code",
   "execution_count": 5,
   "metadata": {},
   "outputs": [
    {
     "name": "stdout",
     "output_type": "stream",
     "text": [
      "Calendar format:  2004 JUN 11 19:33:04.184\n"
     ]
    }
   ],
   "source": [
    "# Convert ephemeris time into a calendar format. Display the result\n",
    "cal_time = spice.etcal(et_time)\n",
    "print('Calendar format: ', cal_time)"
   ]
  },
  {
   "cell_type": "code",
   "execution_count": 6,
   "metadata": {},
   "outputs": [
    {
     "name": "stdout",
     "output_type": "stream",
     "text": [
      "Spacecraft clock time:  197491442025.3071\n"
     ]
    }
   ],
   "source": [
    "# Convert ephemeris time into a spacecraft clock string. Display the result.\n",
    "SCLKID = -82 # from the sclk kernel\n",
    "sclk_time = spice.sce2c(SCLKID, et_time)\n",
    "print('Spacecraft clock time: ', sclk_time)"
   ]
  },
  {
   "cell_type": "markdown",
   "metadata": {},
   "source": [
    "## Obtaining Target States and Positions\n",
    "\n",
    "<img src=\"files/getsta.png\" width=\"700\" align=\"left\">"
   ]
  },
  {
   "cell_type": "markdown",
   "metadata": {},
   "source": [
    "1. The apparent state of Phoebe as seen from CASSINI in the J2000\n",
    "frame, in kilometers and kilometers/second. This vector itself\n",
    "is not of any particular interest, but it is a useful\n",
    "intermediate quantity in some geometry calculations.\n",
    "2. The apparent position of the Earth as seen from CASSINI in the\n",
    "J2000 frame, in kilometers.\n",
    "3. The one-way light time between CASSINI and the apparent\n",
    "position of Earth, in seconds.\n",
    "4. The apparent position of the Sun as seen from Phoebe in the\n",
    "J2000 frame (J2000), in kilometers.\n",
    "5. The actual (geometric) distance between the Sun and Phoebe, in\n",
    "astronomical units.\n",
    "\n",
    "To find NAIF IDs: https://naif.jpl.nasa.gov/pub/naif/toolkit_docs/FORTRAN/req/naif_ids.html\n",
    "\n",
    "Relevant links:\n",
    "\n",
    "http://naif.jpl.nasa.gov/pub/naif/toolkit_docs/C/cspice/spkezr_c.html\n",
    "http://naif.jpl.nasa.gov/pub/naif/toolkit_docs/C/cspice/vnorm_c.html\n",
    "http://naif.jpl.nasa.gov/pub/naif/toolkit_docs/C/cspice/convrt_c.html"
   ]
  },
  {
   "cell_type": "code",
   "execution_count": 7,
   "metadata": {},
   "outputs": [
    {
     "name": "stdout",
     "output_type": "stream",
     "text": [
      "Phoebe state (x, y, z) [km]:  [-119.92092897 2194.13933986  -57.63897986]\n",
      "Phoebe state (vx, vy, vz) [km/s]:  [-5.98023114 -2.11880531 -0.29482213]\n"
     ]
    }
   ],
   "source": [
    "# The apparent state of Phoebe as seen from CASSINI in the J2000 frame, in kilometers \n",
    "# and kilometers/second. This vector itself is not of any particular interest, but it \n",
    "# is a useful intermediate quantity in some geometry calculations.\n",
    "[phoebe_state, phoebe_lt] = spice.spkezr('PHOEBE', et_time, 'J2000', 'LT+S', 'CASSINI')\n",
    "print('Phoebe state (x, y, z) [km]: ', phoebe_state[:3])\n",
    "print('Phoebe state (vx, vy, vz) [km/s]: ', phoebe_state[3:])"
   ]
  },
  {
   "cell_type": "code",
   "execution_count": 8,
   "metadata": {},
   "outputs": [
    {
     "name": "stdout",
     "output_type": "stream",
     "text": [
      "Earth position (x, y, z) [km]:  [ 3.53019393e+08 -1.32818035e+09 -5.68134172e+08]\n",
      "Light time [s]:  4960.426912028222\n"
     ]
    }
   ],
   "source": [
    "# The apparent position of the Earth as seen from CASSINI in the J2000 frame, in kilometers.\n",
    "# Earth NAIF ID: 399, Cassini NAIF ID: -82\n",
    "[earth_pos, earth_lt] = spice.spkezp(399, et_time, 'J2000', 'LT+S', -82)\n",
    "print('Earth position (x, y, z) [km]: ', earth_pos)\n",
    "\n",
    "# The one-way light time between CASSINI and the apparent position of Earth, in seconds.\n",
    "print('Light time [s]: ', earth_lt)"
   ]
  },
  {
   "cell_type": "code",
   "execution_count": 9,
   "metadata": {},
   "outputs": [
    {
     "name": "stdout",
     "output_type": "stream",
     "text": [
      "Sun position (x, y, z) [km]:  [ 3.76551465e+08 -1.19049563e+09 -5.08438699e+08]\n"
     ]
    }
   ],
   "source": [
    "# The apparent position of the Sun as seen from Phoebe in the J2000 frame (J2000), \n",
    "# in kilometers.\n",
    "# Sun NAIF ID: 10, Phoebe NAIF ID: 609\n",
    "[sun_pos, sun_lt] = spice.spkezp(10, et_time, 'J2000', 'LT+S', 609)\n",
    "print('Sun position (x, y, z) [km]: ', sun_pos)"
   ]
  },
  {
   "cell_type": "code",
   "execution_count": 10,
   "metadata": {},
   "outputs": [
    {
     "name": "stdout",
     "output_type": "stream",
     "text": [
      "Sun-Phoebe distance in AU:  9.012005475539208\n"
     ]
    }
   ],
   "source": [
    "# The actual (geometric) distance between the Sun and Phoebe, in astronomical units.\n",
    "sun_dist = spice.vnorm(sun_pos)\n",
    "sun_dist_au = spice.convrt(sun_dist, 'KM', 'AU')\n",
    "print('Sun-Phoebe distance in AU: ', sun_dist_au)"
   ]
  },
  {
   "cell_type": "markdown",
   "metadata": {},
   "source": [
    "## Spacecraft Orientation and Reference Frames\n",
    "\n",
    "<img src=\"files/xform.png\" width=\"700\" align=\"left\">"
   ]
  },
  {
   "cell_type": "markdown",
   "metadata": {},
   "source": [
    "Write a program that prompts the user for an input time string, computes and displays the following at the epoch of interest:\n",
    "1. The apparent state of Phoebe as seen from CASSINI in the IAU_PHOEBE body-fixed frame. This vector itself is not of any particular interest, but it is a useful intermediate quantity in some geometry calculations.\n",
    "2. The angular separation between the apparent position of Earth as seen from CASSINI and the nominal boresight of the CASSINI high gain antenna (HGA). The HGA boresight direction is provided by the kernel variable TKFRAME_-82101_BORESIGHT, which is defined in the Cassini frame kernel cited above in the section \"Kernels Used.\" In this kernel, the HGA boresight vector is expressed relative to the CASSINI_HGA reference frame.\n",
    "\n",
    "Relevant links:\n",
    "\n",
    "http://naif.jpl.nasa.gov/pub/naif/toolkit_docs/C/cspice/spkpos_c.html\n",
    "http://naif.jpl.nasa.gov/pub/naif/toolkit_docs/C/cspice/vsep_c.html"
   ]
  },
  {
   "cell_type": "code",
   "execution_count": 11,
   "metadata": {},
   "outputs": [
    {
     "name": "stdout",
     "output_type": "stream",
     "text": [
      "Phoebe state (x, y, z) [km]:  [-1982.63976162  -934.53047112  -166.56259513]\n",
      "Phoebe state (vx, vy, vz) [km/s]:  [ 3.97083213 -3.81249566 -2.37166299]\n"
     ]
    }
   ],
   "source": [
    "# The apparent state of Phoebe as seen from CASSINI in the IAU_PHOEBE body-fixed frame. \n",
    "# This vector itself is not of any particular interest, but it is a useful intermediate \n",
    "# quantity in some geometry calculations.\n",
    "[phoebe_state_iau, phoebe_lt_iau] = spice.spkezr('PHOEBE', et_time, 'IAU_PHOEBE', \n",
    "                                                 'LT+S', 'CASSINI')\n",
    "print('Phoebe state (x, y, z) [km]: ', phoebe_state_iau[:3])\n",
    "print('Phoebe state (vx, vy, vz) [km/s]: ', phoebe_state_iau[3:])"
   ]
  },
  {
   "cell_type": "code",
   "execution_count": 12,
   "metadata": {},
   "outputs": [
    {
     "name": "stdout",
     "output_type": "stream",
     "text": [
      "Earth position (x, y, z) [km]:  [4.97510258e+08 1.32327091e+09 4.61410682e+08]\n"
     ]
    }
   ],
   "source": [
    "# Apparent position of Earth as seen from CASSINI in CASSINI_HGA frame\n",
    "[earth_pos, earth_ltime] = spice.spkpos('EARTH', et_time, 'CASSINI_HGA', 'LT+S', 'CASSINI')\n",
    "boresight_pos = [0.0, 0.0, 1.0]\n",
    "print('Earth position (x, y, z) [km]: ', earth_pos)"
   ]
  },
  {
   "cell_type": "code",
   "execution_count": 13,
   "metadata": {},
   "outputs": [
    {
     "name": "stdout",
     "output_type": "stream",
     "text": [
      "Angular separataion in radians:  1.2553132026561336\n"
     ]
    }
   ],
   "source": [
    "# Angular separation\n",
    "earth_bore_sep = spice.vsep(earth_pos, boresight_pos)\n",
    "print('Angular separataion in radians: ', earth_bore_sep)"
   ]
  },
  {
   "cell_type": "code",
   "execution_count": 14,
   "metadata": {},
   "outputs": [
    {
     "name": "stdout",
     "output_type": "stream",
     "text": [
      "Angular separataion in degrees:  71.92414847924705\n"
     ]
    }
   ],
   "source": [
    "# Convert from radians to degrees\n",
    "earth_bore_deg = spice.convrt(earth_bore_sep, 'RADIANS', 'DEGREES')\n",
    "print('Angular separataion in degrees: ', earth_bore_deg)"
   ]
  },
  {
   "cell_type": "markdown",
   "metadata": {},
   "source": [
    "### Extra Credit Section\n",
    "\n",
    "1.   Run the original program using the input UTC time \"2004 jun 11\n",
    "     18:25:00\". Explain what happens.     \n",
    "2.   Compute the angular separation between the apparent position of\n",
    "     the Sun as seen from CASSINI and the nominal boresight of the\n",
    "     CASSINI high gain antenna (HGA). Is the HGA illuminated?\n",
    "     \n",
    "Note: My code differs from the example code because I'm working in the HGA frame directly.\n",
    "Skipping Question 1 because I don't get the same error."
   ]
  },
  {
   "cell_type": "code",
   "execution_count": 15,
   "metadata": {},
   "outputs": [
    {
     "name": "stdout",
     "output_type": "stream",
     "text": [
      "Sun position (x, y, z) [km]:  [5.01742127e+08 1.18859401e+09 3.91247524e+08]\n",
      "Angular separataion in radians:  1.2763549411321429\n",
      "Angular separataion in degrees:  73.12975128754043\n",
      "HGA illuminated\n"
     ]
    }
   ],
   "source": [
    "# Question 2: Compute the angular separation between the apparent position of the Sun as \n",
    "# seen from CASSINI and the nominal boresight of the CASSINI high gain antenna (HGA). \n",
    "# Is the HGA illuminated?\n",
    "[sun_pos, sun_ltime] = spice.spkpos('SUN', et_time, 'CASSINI_HGA', 'LT+S', 'CASSINI')\n",
    "boresight_pos = [0.0, 0.0, 1.0]\n",
    "print('Sun position (x, y, z) [km]: ', sun_pos)\n",
    "sun_bore_sep = spice.vsep(sun_pos, boresight_pos)\n",
    "print('Angular separataion in radians: ', sun_bore_sep)\n",
    "sun_bore_deg = spice.convrt(sun_bore_sep, 'RADIANS', 'DEGREES')\n",
    "print('Angular separataion in degrees: ', sun_bore_deg)\n",
    "\n",
    "# If angle is less than 90 degrees, HGA is illuminated\n",
    "if sun_bore_deg < 90.:\n",
    "    print('HGA illuminated')\n",
    "else:\n",
    "    print('HGA not illuminated')"
   ]
  },
  {
   "cell_type": "markdown",
   "metadata": {},
   "source": [
    "## Computing Sub-s/c and Sub-solar Points on an Ellipsoid and a DSK\n",
    "\n",
    "<img src=\"files/phoebe.png\" width=\"700\" align=\"left\">\n",
    "<img src=\"files/subpts.png\" width=\"700\" align=\"left\">"
   ]
  },
  {
   "cell_type": "markdown",
   "metadata": {},
   "source": [
    "1. The apparent sub-observer point of CASSINI on Phoebe, in the body fixed frame IAU_PHOEBE, in kilometers.\n",
    "2. The apparent sub-solar point on Phoebe, as seen from CASSINI in the body fixed frame IAU_PHOEBE, in kilometers.\n",
    "\n",
    "Relevant links:\n",
    "\n",
    "https://naif.jpl.nasa.gov/pub/naif/toolkit_docs/C/cspice/subpnt_c.html\n",
    "https://naif.jpl.nasa.gov/pub/naif/toolkit_docs/C/cspice/subslr_c.html"
   ]
  },
  {
   "cell_type": "code",
   "execution_count": 16,
   "metadata": {},
   "outputs": [
    {
     "name": "stdout",
     "output_type": "stream",
     "text": [
      "Sub-observer point (x, y, z) [km]:  [104.49789074  45.26884577   7.38331473]\n"
     ]
    }
   ],
   "source": [
    "# The apparent sub-observer point of CASSINI on Phoebe, in the body fixed frame IAU_PHOEBE, \n",
    "# in kilometers. Using near point/ellipsoid.\n",
    "[subobs_point, subobs_epoch, subobs_vec] = spice.subpnt('near point/ellipsoid', 'PHOEBE', \n",
    "                                                        et_time,'IAU_PHOEBE', 'LT+S', \n",
    "                                                        'CASSINI')\n",
    "print('Sub-observer point (x, y, z) [km]: ', subobs_point)"
   ]
  },
  {
   "cell_type": "code",
   "execution_count": 17,
   "metadata": {},
   "outputs": [
    {
     "name": "stdout",
     "output_type": "stream",
     "text": [
      "Sub-solar point (x, y, z) [km]:  [ 78.68071625  76.8786516  -21.88456729]\n"
     ]
    }
   ],
   "source": [
    "# The apparent sub-solar point on Phoebe, as seen from CASSINI in the body fixed frame \n",
    "# IAU_PHOEBE, in kilometers. Using near point/ellipsoid.\n",
    "[subsol_point, subsol_epoch, subsol_vec] = spice.subslr('near point/ellipsoid', 'PHOEBE', \n",
    "                                                        et_time,'IAU_PHOEBE', 'LT+S', \n",
    "                                                        'CASSINI')\n",
    "print('Sub-solar point (x, y, z) [km]: ', subsol_point)"
   ]
  },
  {
   "cell_type": "code",
   "execution_count": 18,
   "metadata": {},
   "outputs": [
    {
     "name": "stdout",
     "output_type": "stream",
     "text": [
      "Sub-observer point (x, y, z) [km]:  [95.37257468 40.94817689  6.6099027 ]\n"
     ]
    }
   ],
   "source": [
    "# The apparent sub-observer point of CASSINI on Phoebe, in the body fixed frame IAU_PHOEBE, \n",
    "# in kilometers. Using NADIR/DSK/Unprioritized.\n",
    "[subobs_point_dsk, subobs_epoch_dsk, subobs_vec_dsk] = spice.subpnt('NADIR/DSK/Unprioritized', \n",
    "                                                'PHOEBE', et_time,'IAU_PHOEBE', 'LT+S', \n",
    "                                                'CASSINI')\n",
    "print('Sub-observer point (x, y, z) [km]: ', subobs_point_dsk)"
   ]
  },
  {
   "cell_type": "code",
   "execution_count": 19,
   "metadata": {},
   "outputs": [
    {
     "name": "stdout",
     "output_type": "stream",
     "text": [
      "Sub-solar point (x, y, z) [km]:  [ 79.11113709  77.33831624 -22.02817575]\n"
     ]
    }
   ],
   "source": [
    "# The apparent sub-solar point on Phoebe, as seen from CASSINI in the body fixed frame \n",
    "# IAU_PHOEBE, in kilometers. Using NADIR/DSK/Unprioritized.\n",
    "[subsol_point_dsk, subsol_epoch_dsk, subsol_vec_dsk] = spice.subslr('NADIR/DSK/Unprioritized', \n",
    "                                                'PHOEBE', et_time,'IAU_PHOEBE', 'LT+S', \n",
    "                                                'CASSINI')\n",
    "print('Sub-solar point (x, y, z) [km]: ', subsol_point_dsk)"
   ]
  },
  {
   "cell_type": "markdown",
   "metadata": {},
   "source": [
    "### Extra Credit\n",
    "\n",
    "1.   Recompute the apparent sub-solar point on Phoebe as seen from\n",
    "     CASSINI in the body fixed frame IAU_PHOEBE in kilometers using\n",
    "     the 'Intercept/ellipsoid' method at \"2004 jun 11 19:32:00\".\n",
    "     Explain the differences.\n",
    "\n",
    "2.   Compute the geometric sub-spacecraft point of CASSINI on Phoebe\n",
    "     in the body fixed frame IAU_PHOEBE in kilometers using the\n",
    "     'Near point/ellipsoid' method at \"2004 jun 11 19:32:00\".\n",
    "\n",
    "3.   Transform the sub-spacecraft Cartesian coordinates obtained in\n",
    "     the previous task to planetocentric and planetographic\n",
    "     coordinates. When computing planetographic coordinates,\n",
    "     retrieve Phoebe's radii by calling spiceypy.bodvrd and use the\n",
    "     first element of the returned radii values as Phoebe's\n",
    "     equatorial radius. Explain why planetocentric and\n",
    "     planetographic latitudes and longitudes are different. Explain\n",
    "     why the planetographic altitude for a point on the surface of\n",
    "     Phoebe is not zero and whether this is correct or not.\n",
    "     \n",
    "Relevant links:\n",
    "\n",
    "http://naif.jpl.nasa.gov/pub/naif/toolkit_docs/C/cspice/bodvar_c.html\n",
    "http://naif.jpl.nasa.gov/pub/naif/toolkit_docs/C/cspice/recpgr_c.html\n",
    "http://naif.jpl.nasa.gov/pub/naif/toolkit_docs/C/cspice/reclat_c.html"
   ]
  },
  {
   "cell_type": "code",
   "execution_count": 20,
   "metadata": {},
   "outputs": [
    {
     "name": "stdout",
     "output_type": "stream",
     "text": [
      "Sub-solar point (x, y, z) [km]:  [ 74.54229301  79.60686275 -24.87078456]\n"
     ]
    }
   ],
   "source": [
    "# Question 1\n",
    "[subsol_point, subsol_epoch, subsol_vec] = spice.subslr('Intercept/ellipsoid', 'PHOEBE', \n",
    "                                                        et_time,'IAU_PHOEBE', 'LT+S', \n",
    "                                                        'CASSINI')\n",
    "print('Sub-solar point (x, y, z) [km]: ', subsol_point)"
   ]
  },
  {
   "cell_type": "markdown",
   "metadata": {},
   "source": [
    "Compared to answer above...\n",
    "\n",
    "With 'near point/ellipsoid':\n",
    "Sub-solar point (x, y, z) [km]:  [ 78.68071625  76.8786516  -21.88456729]\n",
    "\n",
    "With 'Intercept/ellipsoid':\n",
    "Sub-solar point (x, y, z) [km]:  [ 74.54229301  79.60686275 -24.87078456]\n",
    "\n",
    "The difference is due to the different methods. \n",
    "\n",
    "Near-point ellipsoid:\n",
    "The sub-solar point computation uses a triaxial \n",
    "ellipsoid to model the surface of the target body. \n",
    "The sub-solar point is defined as the nearest \n",
    "point on the target relative to the sun. \n",
    "\n",
    "Intercept ellipsoid:\n",
    "The sub-solar point computation uses a triaxial \n",
    "ellipsoid to model the surface of the target body. \n",
    "The sub-solar point is defined as the target \n",
    "surface intercept of the line containing the sun \n",
    "and the target's center. "
   ]
  },
  {
   "cell_type": "code",
   "execution_count": 21,
   "metadata": {},
   "outputs": [
    {
     "name": "stdout",
     "output_type": "stream",
     "text": [
      "Sub-spacecraft point (x, y, z) [km]:  [104.49789074  45.26884577   7.38331473]\n"
     ]
    }
   ],
   "source": [
    "# Compute the geometric sub-spacecraft point of CASSINI on Phoebe in the body fixed frame \n",
    "# IAU_PHOEBE in kilometers using the 'Near point/ellipsoid' method at \"2004 jun 11 19:32:00\".\n",
    "[subsc_point, subsc_epoch, subsc_vec] = spice.subpnt('near point/ellipsoid', 'PHOEBE', \n",
    "                                                        et_time,'IAU_PHOEBE', 'LT+S', \n",
    "                                                        'CASSINI')\n",
    "print('Sub-spacecraft point (x, y, z) [km]: ', subsc_point)"
   ]
  },
  {
   "cell_type": "code",
   "execution_count": 22,
   "metadata": {},
   "outputs": [
    {
     "name": "stdout",
     "output_type": "stream",
     "text": [
      "Planetographic coordinates (rad, rad, km) (5.874386841488254, 0.0777264826429562, -0.8309852175995872)\n",
      "Planetographic LAT (deg):  4.453399411838238\n",
      "Planetographic LON (deg):  336.57757324446305\n",
      "Planetographic ALT (km):  -0.8309852175995872\n"
     ]
    }
   ],
   "source": [
    "# Transform the sub-spacecraft Cartesian coordinates obtained in the previous task to \n",
    "# planetocentric and planetographic coordinates. When computing planetographic coordinates, \n",
    "# retrieve Phoebe's radii by calling spiceypy.bodvrd and use the first element of the \n",
    "# returned radii values as Phoebe's equatorial radius. Explain why planetocentric and \n",
    "# planetographic latitudes and longitudes are different. Explain why the planetographic \n",
    "# altitude for a point on the surface of Phoebe is not zero and whether this is correct or \n",
    "# not.\n",
    "\n",
    "# Get Phoebe radius (this is based on the example in subpnt)\n",
    "r_phoebe = spice.bodvrd('PHOEBE', 'RADII', 3)\n",
    "re = r_phoebe[1][0] # equatorial\n",
    "rp = r_phoebe[1][2] # polar\n",
    "f  = ( re - rp ) / re\n",
    "\n",
    "# Convert to planetographic coordinates\n",
    "pg_coord = spice.recpgr('PHOEBE', subsc_point, re, f)\n",
    "print('Planetographic coordinates (rad, rad, km)', pg_coord)\n",
    "\n",
    "# Need to match units...\n",
    "pg_coord_lat = spice.convrt(pg_coord[1], 'RADIANS', 'DEGREES')\n",
    "pg_coord_lon = spice.convrt(pg_coord[0], 'RADIANS', 'DEGREES')\n",
    "pg_coord_alt = pg_coord[2]\n",
    "\n",
    "print('Planetographic LAT (deg): ', pg_coord_lat)\n",
    "print('Planetographic LON (deg): ', pg_coord_lon)\n",
    "print('Planetographic ALT (km): ', pg_coord_alt)"
   ]
  },
  {
   "cell_type": "code",
   "execution_count": 23,
   "metadata": {},
   "outputs": [
    {
     "name": "stdout",
     "output_type": "stream",
     "text": [
      "Planetocentric LAT (deg):  3.7094718608660378\n",
      "Planetocentric LON (deg):  23.42242675553693\n",
      "Planetocentric R (km):  114.12094857082563\n"
     ]
    }
   ],
   "source": [
    "# Convert to planetocentric coordinates\n",
    "pc_coord = spice.reclat(subsc_point)\n",
    "\n",
    "# Convert to correct units\n",
    "pc_coord_lon = spice.convrt(pc_coord[1], 'RADIANS', 'DEGREES')\n",
    "pc_coord_lat = spice.convrt(pc_coord[2], 'RADIANS', 'DEGREES')\n",
    "\n",
    "print('Planetocentric LAT (deg): ', pc_coord_lat)\n",
    "print('Planetocentric LON (deg): ', pc_coord_lon)\n",
    "print('Planetocentric R (km): ', pc_coord[0])"
   ]
  },
  {
   "cell_type": "markdown",
   "metadata": {},
   "source": [
    "Longitude: Planetographic = 360 - planetocentric"
   ]
  },
  {
   "cell_type": "markdown",
   "metadata": {},
   "source": [
    "## Intersecting Vectors with an Ellipsoid and a DSK\n",
    "\n",
    "<img src=\"files/fovint.png\" width=\"700\" align=\"left\">\n",
    "<img src=\"files/cosmographia.png\" width=\"700\" align=\"left\">"
   ]
  },
  {
   "cell_type": "markdown",
   "metadata": {},
   "source": [
    "Write a program that prompts the user for an input UTC time string and, for that time, computes the intersection of the CASSINI ISS NAC camera boresight and field of view (FOV) boundary vectors with the surface of Phoebe. Compute each intercept twice: once with Phoebe’s shape modeled as an ellipsoid, and once with Phoebe’s shape modeled by DSK data. The program presents each point of intersection as:\n",
    "1. A Cartesian vector in the IAU_PHOEBE frame\n",
    "2. Planetocentric (latitudinal) coordinates in the IAU_PHOEBE frame.\n",
    "\n",
    "For each of the camera FOV boundary and boresight vectors, if an intersection is found, the program displays the results of the above computations, otherwise it indicates no intersection exists. At each point of intersection compute the following:\n",
    "3. Phase angle\n",
    "4. Solar incidence angle\n",
    "5. Emission angle\n",
    "\n",
    "These angles should be computed using both ellipsoidal and DSK shape models. Additionally compute the local solar time at the intercept of the camera boresight with the surface of Phoebe, using both ellipsoidal and DSK shape models."
   ]
  },
  {
   "cell_type": "code",
   "execution_count": null,
   "metadata": {
    "collapsed": true
   },
   "outputs": [],
   "source": []
  }
 ],
 "metadata": {
  "kernelspec": {
   "display_name": "Python 3",
   "language": "python",
   "name": "python3"
  },
  "language_info": {
   "codemirror_mode": {
    "name": "ipython",
    "version": 3
   },
   "file_extension": ".py",
   "mimetype": "text/x-python",
   "name": "python",
   "nbconvert_exporter": "python",
   "pygments_lexer": "ipython3",
   "version": "3.6.7"
  }
 },
 "nbformat": 4,
 "nbformat_minor": 2
}
